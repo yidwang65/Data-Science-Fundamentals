{
  "cells": [
    {
      "cell_type": "markdown",
      "metadata": {
        "id": "umUAziXBxkdV"
      },
      "source": [
        "# Worksheet 13\n",
        "\n",
        "Name:  \n",
        "UID:\n",
        "\n",
        "### Topics\n",
        "\n",
        "- Decision Trees\n",
        "\n",
        "### Decision Trees"
      ]
    },
    {
      "cell_type": "code",
      "execution_count": 1,
      "metadata": {
        "colab": {
          "base_uri": "https://localhost:8080/",
          "height": 331
        },
        "id": "-aqx6-UvxkdW",
        "outputId": "cccbc02e-9778-4227-cd61-09a5b43d0b6e"
      },
      "outputs": [
        {
          "output_type": "error",
          "ename": "FileNotFoundError",
          "evalue": "[Errno 2] No such file or directory: 'tree.jpg'",
          "traceback": [
            "\u001b[0;31m---------------------------------------------------------------------------\u001b[0m",
            "\u001b[0;31mFileNotFoundError\u001b[0m                         Traceback (most recent call last)",
            "\u001b[0;32m<ipython-input-1-7c5ba3435b6a>\u001b[0m in \u001b[0;36m<cell line: 3>\u001b[0;34m()\u001b[0m\n\u001b[1;32m      1\u001b[0m \u001b[0;32mfrom\u001b[0m \u001b[0mIPython\u001b[0m\u001b[0;34m.\u001b[0m\u001b[0mdisplay\u001b[0m \u001b[0;32mimport\u001b[0m \u001b[0mImage\u001b[0m\u001b[0;34m\u001b[0m\u001b[0;34m\u001b[0m\u001b[0m\n\u001b[1;32m      2\u001b[0m \u001b[0;34m\u001b[0m\u001b[0m\n\u001b[0;32m----> 3\u001b[0;31m \u001b[0mImage\u001b[0m\u001b[0;34m(\u001b[0m\u001b[0mfilename\u001b[0m\u001b[0;34m=\u001b[0m\u001b[0;34m\"tree.jpg\"\u001b[0m\u001b[0;34m,\u001b[0m \u001b[0mwidth\u001b[0m\u001b[0;34m=\u001b[0m\u001b[0;36m500\u001b[0m\u001b[0;34m,\u001b[0m \u001b[0mheight\u001b[0m\u001b[0;34m=\u001b[0m\u001b[0;36m300\u001b[0m\u001b[0;34m)\u001b[0m\u001b[0;34m\u001b[0m\u001b[0;34m\u001b[0m\u001b[0m\n\u001b[0m",
            "\u001b[0;32m/usr/local/lib/python3.10/dist-packages/IPython/core/display.py\u001b[0m in \u001b[0;36m__init__\u001b[0;34m(self, data, url, filename, format, embed, width, height, retina, unconfined, metadata)\u001b[0m\n\u001b[1;32m   1229\u001b[0m         \u001b[0mself\u001b[0m\u001b[0;34m.\u001b[0m\u001b[0mretina\u001b[0m \u001b[0;34m=\u001b[0m \u001b[0mretina\u001b[0m\u001b[0;34m\u001b[0m\u001b[0;34m\u001b[0m\u001b[0m\n\u001b[1;32m   1230\u001b[0m         \u001b[0mself\u001b[0m\u001b[0;34m.\u001b[0m\u001b[0munconfined\u001b[0m \u001b[0;34m=\u001b[0m \u001b[0munconfined\u001b[0m\u001b[0;34m\u001b[0m\u001b[0;34m\u001b[0m\u001b[0m\n\u001b[0;32m-> 1231\u001b[0;31m         super(Image, self).__init__(data=data, url=url, filename=filename, \n\u001b[0m\u001b[1;32m   1232\u001b[0m                 metadata=metadata)\n\u001b[1;32m   1233\u001b[0m \u001b[0;34m\u001b[0m\u001b[0m\n",
            "\u001b[0;32m/usr/local/lib/python3.10/dist-packages/IPython/core/display.py\u001b[0m in \u001b[0;36m__init__\u001b[0;34m(self, data, url, filename, metadata)\u001b[0m\n\u001b[1;32m    635\u001b[0m             \u001b[0mself\u001b[0m\u001b[0;34m.\u001b[0m\u001b[0mmetadata\u001b[0m \u001b[0;34m=\u001b[0m \u001b[0;34m{\u001b[0m\u001b[0;34m}\u001b[0m\u001b[0;34m\u001b[0m\u001b[0;34m\u001b[0m\u001b[0m\n\u001b[1;32m    636\u001b[0m \u001b[0;34m\u001b[0m\u001b[0m\n\u001b[0;32m--> 637\u001b[0;31m         \u001b[0mself\u001b[0m\u001b[0;34m.\u001b[0m\u001b[0mreload\u001b[0m\u001b[0;34m(\u001b[0m\u001b[0;34m)\u001b[0m\u001b[0;34m\u001b[0m\u001b[0;34m\u001b[0m\u001b[0m\n\u001b[0m\u001b[1;32m    638\u001b[0m         \u001b[0mself\u001b[0m\u001b[0;34m.\u001b[0m\u001b[0m_check_data\u001b[0m\u001b[0;34m(\u001b[0m\u001b[0;34m)\u001b[0m\u001b[0;34m\u001b[0m\u001b[0;34m\u001b[0m\u001b[0m\n\u001b[1;32m    639\u001b[0m \u001b[0;34m\u001b[0m\u001b[0m\n",
            "\u001b[0;32m/usr/local/lib/python3.10/dist-packages/IPython/core/display.py\u001b[0m in \u001b[0;36mreload\u001b[0;34m(self)\u001b[0m\n\u001b[1;32m   1261\u001b[0m         \u001b[0;34m\"\"\"Reload the raw data from file or URL.\"\"\"\u001b[0m\u001b[0;34m\u001b[0m\u001b[0;34m\u001b[0m\u001b[0m\n\u001b[1;32m   1262\u001b[0m         \u001b[0;32mif\u001b[0m \u001b[0mself\u001b[0m\u001b[0;34m.\u001b[0m\u001b[0membed\u001b[0m\u001b[0;34m:\u001b[0m\u001b[0;34m\u001b[0m\u001b[0;34m\u001b[0m\u001b[0m\n\u001b[0;32m-> 1263\u001b[0;31m             \u001b[0msuper\u001b[0m\u001b[0;34m(\u001b[0m\u001b[0mImage\u001b[0m\u001b[0;34m,\u001b[0m\u001b[0mself\u001b[0m\u001b[0;34m)\u001b[0m\u001b[0;34m.\u001b[0m\u001b[0mreload\u001b[0m\u001b[0;34m(\u001b[0m\u001b[0;34m)\u001b[0m\u001b[0;34m\u001b[0m\u001b[0;34m\u001b[0m\u001b[0m\n\u001b[0m\u001b[1;32m   1264\u001b[0m             \u001b[0;32mif\u001b[0m \u001b[0mself\u001b[0m\u001b[0;34m.\u001b[0m\u001b[0mretina\u001b[0m\u001b[0;34m:\u001b[0m\u001b[0;34m\u001b[0m\u001b[0;34m\u001b[0m\u001b[0m\n\u001b[1;32m   1265\u001b[0m                 \u001b[0mself\u001b[0m\u001b[0;34m.\u001b[0m\u001b[0m_retina_shape\u001b[0m\u001b[0;34m(\u001b[0m\u001b[0;34m)\u001b[0m\u001b[0;34m\u001b[0m\u001b[0;34m\u001b[0m\u001b[0m\n",
            "\u001b[0;32m/usr/local/lib/python3.10/dist-packages/IPython/core/display.py\u001b[0m in \u001b[0;36mreload\u001b[0;34m(self)\u001b[0m\n\u001b[1;32m    660\u001b[0m         \u001b[0;34m\"\"\"Reload the raw data from file or URL.\"\"\"\u001b[0m\u001b[0;34m\u001b[0m\u001b[0;34m\u001b[0m\u001b[0m\n\u001b[1;32m    661\u001b[0m         \u001b[0;32mif\u001b[0m \u001b[0mself\u001b[0m\u001b[0;34m.\u001b[0m\u001b[0mfilename\u001b[0m \u001b[0;32mis\u001b[0m \u001b[0;32mnot\u001b[0m \u001b[0;32mNone\u001b[0m\u001b[0;34m:\u001b[0m\u001b[0;34m\u001b[0m\u001b[0;34m\u001b[0m\u001b[0m\n\u001b[0;32m--> 662\u001b[0;31m             \u001b[0;32mwith\u001b[0m \u001b[0mopen\u001b[0m\u001b[0;34m(\u001b[0m\u001b[0mself\u001b[0m\u001b[0;34m.\u001b[0m\u001b[0mfilename\u001b[0m\u001b[0;34m,\u001b[0m \u001b[0mself\u001b[0m\u001b[0;34m.\u001b[0m\u001b[0m_read_flags\u001b[0m\u001b[0;34m)\u001b[0m \u001b[0;32mas\u001b[0m \u001b[0mf\u001b[0m\u001b[0;34m:\u001b[0m\u001b[0;34m\u001b[0m\u001b[0;34m\u001b[0m\u001b[0m\n\u001b[0m\u001b[1;32m    663\u001b[0m                 \u001b[0mself\u001b[0m\u001b[0;34m.\u001b[0m\u001b[0mdata\u001b[0m \u001b[0;34m=\u001b[0m \u001b[0mf\u001b[0m\u001b[0;34m.\u001b[0m\u001b[0mread\u001b[0m\u001b[0;34m(\u001b[0m\u001b[0;34m)\u001b[0m\u001b[0;34m\u001b[0m\u001b[0;34m\u001b[0m\u001b[0m\n\u001b[1;32m    664\u001b[0m         \u001b[0;32melif\u001b[0m \u001b[0mself\u001b[0m\u001b[0;34m.\u001b[0m\u001b[0murl\u001b[0m \u001b[0;32mis\u001b[0m \u001b[0;32mnot\u001b[0m \u001b[0;32mNone\u001b[0m\u001b[0;34m:\u001b[0m\u001b[0;34m\u001b[0m\u001b[0;34m\u001b[0m\u001b[0m\n",
            "\u001b[0;31mFileNotFoundError\u001b[0m: [Errno 2] No such file or directory: 'tree.jpg'"
          ]
        }
      ],
      "source": [
        "from IPython.display import Image\n",
        "\n",
        "Image(filename=\"tree.jpg\", width=500, height=300)"
      ]
    },
    {
      "cell_type": "markdown",
      "metadata": {
        "id": "LMbFG_awxkdX"
      },
      "source": [
        "Using the above Decision Tree, what class would you predict for the following unseen record:\n",
        "\n",
        "| Refund | Marital Status | Income |\n",
        "|--------|----------------|--------|\n",
        "| No     | Married        | 90k    |"
      ]
    },
    {
      "cell_type": "markdown",
      "metadata": {
        "id": "sY7l5rEbxkdY"
      },
      "source": []
    },
    {
      "cell_type": "markdown",
      "metadata": {
        "id": "sPGuBORJxkdY"
      },
      "source": [
        "Working with a dataset that attempts to understand the relationship between `heart disease` and whether or not a person experiences `chest_pain` and/or has `thalassemia`. All the attributes are binary (either 0 or 1) for simplicity."
      ]
    },
    {
      "cell_type": "code",
      "execution_count": null,
      "metadata": {
        "id": "9yVOc2XnxkdY"
      },
      "outputs": [],
      "source": [
        "import numpy as np\n",
        "\n",
        "data = np.genfromtxt(fname='./dataset.tsv', delimiter = '\\t', names = True)"
      ]
    },
    {
      "cell_type": "markdown",
      "metadata": {
        "id": "_9pv875IxkdY"
      },
      "source": [
        "a) Before splitting the dataset at all, we observe the following distribution of 1s and 0s in the `heart_disease` class:"
      ]
    },
    {
      "cell_type": "code",
      "execution_count": null,
      "metadata": {
        "id": "VX7nSMnyxkdZ"
      },
      "outputs": [],
      "source": [
        "print(data[\"thalassemia\"])\n"
      ]
    },
    {
      "cell_type": "code",
      "execution_count": null,
      "metadata": {
        "id": "_IpVauypxkdZ"
      },
      "outputs": [],
      "source": [
        "print(data[\"heart_disease\"])"
      ]
    },
    {
      "cell_type": "markdown",
      "metadata": {
        "id": "nFYv9m3Bxkda"
      },
      "source": [
        "write a function that calculates the GINI of that node."
      ]
    },
    {
      "cell_type": "code",
      "execution_count": null,
      "metadata": {
        "id": "DjEKtPKKxkda"
      },
      "outputs": [],
      "source": [
        "def gini(node):\n",
        "    frequencies = [\n",
        "        sum(node)/len(node),\n",
        "        1-sum(node)/len(node)\n",
        "    ]\n",
        "    return 1 - sum([f**2 for f in frequencies])\n",
        "\n",
        "print(\"GINI of the node is \", gini(data[\"heart_disease\"]))"
      ]
    },
    {
      "cell_type": "markdown",
      "metadata": {
        "id": "Q6q_knY0xkdb"
      },
      "source": [
        "b) Write a function that computes the gini of a split."
      ]
    },
    {
      "cell_type": "code",
      "execution_count": null,
      "metadata": {
        "id": "W7Y3Gk3xxkdb"
      },
      "outputs": [],
      "source": [
        "def gini_split(data, attr, target_name):\n",
        "    subsets = [\n",
        "        data[data[attr] == 0][target_name],\n",
        "        data[data[attr] == 1][target_name]\n",
        "    ]\n",
        "\n",
        "    return sum([gini(x) * len(x) for x in subsets]) / len(data)\n",
        "\n",
        "print(\"GINI of split on thalassemia = \", gini_split(data, \"thalassemia\", \"heart_disease\"))\n",
        "print(\"GINI of split on chest_pain = \", gini_split(data, \"chest_pain\", \"heart_disease\"))"
      ]
    },
    {
      "cell_type": "markdown",
      "metadata": {
        "id": "6vyVAuJ_xkdb"
      },
      "source": [
        "We can represent a decision tree recursively with the `Node` class below."
      ]
    },
    {
      "cell_type": "code",
      "execution_count": null,
      "metadata": {
        "id": "Qs8R6Tm0xkdc"
      },
      "outputs": [],
      "source": [
        "class Node:\n",
        "    def __init__(self, attribute):\n",
        "        self.attr = attribute\n",
        "        self.left = None\n",
        "        self.right = None\n",
        "        self.vote = None\n",
        "\n",
        "    def _node_at(self, depth):\n",
        "        pretty_print = \"\"\n",
        "        if self.left is not None:\n",
        "            for _ in range(depth):\n",
        "                pretty_print += \"| \"\n",
        "            pretty_print += self.attr + ' = 0: \\n'\n",
        "            pretty_print += self.left._node_at(depth + 1)\n",
        "\n",
        "        if self.right is not None:\n",
        "            for _ in range(depth):\n",
        "                pretty_print += \"| \"\n",
        "            pretty_print += self.attr + ' = 1: \\n'\n",
        "            pretty_print += self.right._node_at(depth + 1)\n",
        "\n",
        "        if self.right is None and self.left is None:\n",
        "            for _ in range(depth):\n",
        "                pretty_print += \"| \"\n",
        "            pretty_print += \"vote = \" + str(self.vote) + '\\n'\n",
        "\n",
        "        return pretty_print\n",
        "\n",
        "    def __repr__(self):\n",
        "        return self._node_at(0)\n",
        "\n",
        "B = Node(\"B\")\n",
        "C = Node(\"C\")\n",
        "left_leaf = Node(\"leaf\")\n",
        "left_leaf.vote = 0\n",
        "right_leaf = Node(\"leaf\")\n",
        "right_leaf.vote = 1\n",
        "\n",
        "B.right = right_leaf\n",
        "B.left = left_leaf\n",
        "C.right = right_leaf\n",
        "C.left = left_leaf\n",
        "\n",
        "tree = Node(\"A\")\n",
        "tree.left = B\n",
        "tree.right = C\n",
        "\n",
        "print(tree)"
      ]
    },
    {
      "cell_type": "markdown",
      "metadata": {
        "id": "iIWWcj2bxkdc"
      },
      "source": [
        "Each node is defined by splitting the dataset on a specific attribute. If the attribute value is 0, we explore the left node, if the attribute value is 1, we explore the right node. The left and right nodes are both of type `Node`. If the node has no left node and no right node then it is a leaf node and should contain a vote for what class should be predicted.\n",
        "\n",
        "c) Write a function that takes in a decision tree and a data point, and walks through the tree based on the data point's attribute values to predict its class."
      ]
    },
    {
      "cell_type": "code",
      "execution_count": null,
      "metadata": {
        "id": "LUl3cnkhxkdc"
      },
      "outputs": [],
      "source": [
        "def predict(tree : Node, example):\n",
        "    if tree.left is None and tree.right is None:\n",
        "       return tree.vote\n",
        "\n",
        "    if example[tree.attr] == 0:\n",
        "        predict(tree.left, example)\n",
        "\n",
        "    if example[tree.attr] == 1:\n",
        "        predict(tree.right, example)\n",
        "\n",
        "    return 0\n",
        "\n",
        "print(predict(tree, {\"A\": 0, \"B\": 1, \"C\": 0})) # A -> B -> right\n",
        "print(predict(tree, {\"A\": 0, \"B\": 0, \"C\": 0})) # A -> B -> left\n",
        "print(predict(tree, {\"A\": 1, \"B\": 1, \"C\": 0})) # A -> C -> left\n",
        "print(predict(tree, {\"A\": 1, \"B\": 1, \"C\": 1})) # A -> C -> right\n"
      ]
    },
    {
      "cell_type": "markdown",
      "metadata": {
        "id": "t-WzVkGTxkdd"
      },
      "source": [
        "d) Write a function that finds the best attribute to split on wrt the GINI of the split. Recall a smaller GINI is better."
      ]
    },
    {
      "cell_type": "code",
      "execution_count": null,
      "metadata": {
        "id": "911s1MCCxkdd"
      },
      "outputs": [],
      "source": [
        "def get_best_attribute(data, target_name):\n",
        "    best_attr = None\n",
        "    temp = 1\n",
        "    for attr in data.dtype.names:\n",
        "        if attr != target_name:\n",
        "            if gini_split(data, attr, target_name) < temp:\n",
        "                best_attr = attr\n",
        "    return best_attr"
      ]
    },
    {
      "cell_type": "markdown",
      "metadata": {
        "id": "J4uY8Efkxkdd"
      },
      "source": [
        "e) Complete the code below to build a `SimpleDecisionTree` on the dataset provided."
      ]
    },
    {
      "cell_type": "code",
      "execution_count": null,
      "metadata": {
        "id": "hjanN296xkdd",
        "outputId": "5f4f2f91-d2b3-46c5-a29b-52f6a9c7cc53"
      },
      "outputs": [
        {
          "name": "stdout",
          "output_type": "stream",
          "text": [
            "thalassemia = 0: \n",
            "| chest_pain = 0: \n",
            "| | vote = 0\n",
            "| chest_pain = 1: \n",
            "| | vote = 0\n",
            "thalassemia = 1: \n",
            "| chest_pain = 0: \n",
            "| | vote = 1\n",
            "| chest_pain = 1: \n",
            "| | vote = 1\n",
            "\n"
          ]
        }
      ],
      "source": [
        "class SimpleDecisionTree:\n",
        "\n",
        "    def __init__(self, max_depth, data, target_name):\n",
        "        self.max_depth = max_depth\n",
        "        self.data = data\n",
        "        self.target_name = target_name\n",
        "        self.tree = None\n",
        "        self.default_class = None\n",
        "\n",
        "\n",
        "    def __repr__(self):\n",
        "        return self.tree.__repr__()\n",
        "\n",
        "\n",
        "    def get_subset(self, data, attr):\n",
        "        subset_1 = data[data[attr] == 0]\n",
        "        subset_2 = data[data[attr] == 1]\n",
        "        return subset_1, subset_2\n",
        "\n",
        "\n",
        "    def gini_split(self, data, attr):\n",
        "        subsets = [\n",
        "            data[data[attr] == 0][self.target_name],\n",
        "            data[data[attr] == 1][self.target_name]\n",
        "        ]\n",
        "        return sum([gini(x) * len(x) for x in subsets]) / len(data)\n",
        "\n",
        "\n",
        "    def get_majority_vote(self, data):\n",
        "        return sum(data[self.target_name]) > (len(data)/2)\n",
        "\n",
        "\n",
        "    def get_best_attribute(self, data):\n",
        "        best_attr = None\n",
        "        temp = 1\n",
        "        for attr in data.dtype.names:\n",
        "            if attr != self.target_name:\n",
        "                if gini_split(data, attr) < temp:\n",
        "                    best_attr = attr\n",
        "        return best_attr\n",
        "\n",
        "\n",
        "    def build_tree(self, data, depth):\n",
        "        attr = self.get_best_attribute(data)\n",
        "        node = Node(attr)\n",
        "\n",
        "        if depth == 0:\n",
        "            if data is None:\n",
        "                node.vote = self.default_class\n",
        "            else:\n",
        "                node.vote = self.get_majority_vote(data)\n",
        "            return node\n",
        "\n",
        "        left, right = self.get_subset(data, node.attr)\n",
        "\n",
        "        node.left = self.build_tree(left, depth - 1)\n",
        "        node.right = self.build_tree(right, depth - 1)\n",
        "\n",
        "        if node.left is None and node.right is None:\n",
        "            node.vote = self.get_majority_vote(data)\n",
        "\n",
        "        return node\n",
        "\n",
        "\n",
        "    def train(self):\n",
        "        if self.max_depth > len(self.data.dtype.names) - 1:\n",
        "            self.max_depth = len(self.data.dtype.names) - 1\n",
        "\n",
        "        self.default_class = self.get_majority_vote(self.data)\n",
        "        self.tree = self.build_tree(self.data, self.max_depth)\n",
        "\n",
        "\n",
        "simple_tree = SimpleDecisionTree(2, data, \"heart_disease\")\n",
        "simple_tree.train()\n",
        "print(simple_tree)"
      ]
    }
  ],
  "metadata": {
    "kernelspec": {
      "display_name": "Python 3 (ipykernel)",
      "language": "python",
      "name": "python3"
    },
    "language_info": {
      "codemirror_mode": {
        "name": "ipython",
        "version": 3
      },
      "file_extension": ".py",
      "mimetype": "text/x-python",
      "name": "python",
      "nbconvert_exporter": "python",
      "pygments_lexer": "ipython3",
      "version": "3.10.13"
    },
    "vscode": {
      "interpreter": {
        "hash": "76ca05dc3ea24b2e3b98cdb7774adfbb40773424bf5109b477fd793f623715af"
      }
    },
    "colab": {
      "provenance": []
    }
  },
  "nbformat": 4,
  "nbformat_minor": 0
}