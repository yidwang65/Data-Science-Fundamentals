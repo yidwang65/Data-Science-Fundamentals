{
 "cells": [
  {
   "attachments": {},
   "cell_type": "markdown",
   "metadata": {},
   "source": [
    "# Worksheet 23\n",
    "\n",
    "Name:  \n",
    "UID: \n",
    "\n",
    "### Topics\n",
    "\n",
    "- Tuning Neural Networks\n",
    "\n",
    "## Tuning Neural Networks\n",
    "\n",
    "Nothing to do in this worksheet except follow along in lecture / use this code to better understand Neural Networks."
   ]
  },
  {
   "cell_type": "code",
   "execution_count": null,
   "metadata": {},
   "outputs": [],
   "source": [
    "import math as m\n",
    "import numpy as np\n",
    "import matplotlib.pyplot as plt\n",
    "import sklearn.datasets as datasets\n",
    "from tensorflow import keras, math, random, stack\n",
    "from tensorflow.keras import layers, initializers\n",
    "from tensorflow.keras.activations import relu\n",
    "\n",
    "# Set random seed for reproducibility\n",
    "np.random.seed(1)\n",
    "random.set_seed(1)\n",
    "\n",
    "# Data generation - don't modify\n",
    "centers = [[0, 0]]\n",
    "t, _ = datasets.make_blobs(n_samples=200, centers=centers, cluster_std=1,\n",
    "                                random_state=1)\n",
    "\n",
    "colors = np.array([x for x in 'bgrcmyk'])\n",
    "\n",
    "# CURVE\n",
    "def generate_curve_data(t):\n",
    "    # create some space between the classes\n",
    "    X = np.array(list(filter(lambda x : m.cos(4*x[0]) - x[1] < -.5 or m.cos(4*x[0]) - x[1] > .5, t)))\n",
    "    Y = np.array([1 if m.cos(4*x[0]) - x[1] >= 0 else 0 for x in X])\n",
    "    return X, Y\n",
    "\n",
    "# The model - modify this\n",
    "model = keras.models.Sequential()\n",
    "model.add(layers.Dense(3, input_dim=2, activation=\"sigmoid\"))\n",
    "model.add(layers.Dense(1, activation=\"sigmoid\"))\n",
    "model.compile(loss=\"binary_crossentropy\")\n",
    "\n",
    "X, Y = generate_curve_data(t)\n",
    "\n",
    "# plot the data\n",
    "plt.scatter(X[:,0],X[:,1],color=colors[Y].tolist(), s=100, alpha=.9)\n",
    "plt.show()\n",
    "\n",
    "history = model.fit(X, Y, batch_size=50, epochs=200)\n",
    "\n",
    "# Plot the decision boundary\n",
    "\n",
    "# create a mesh to plot in\n",
    "h = .02  # step size in the mesh\n",
    "x_min, x_max = X[:, 0].min() - .5, X[:, 0].max() + 1\n",
    "y_min, y_max = X[:, 1].min() - .5, X[:, 1].max() + 1\n",
    "xx, yy = np.meshgrid(np.arange(x_min, x_max, h),\n",
    "                     np.arange(y_min, y_max, h))\n",
    "meshData = np.c_[xx.ravel(), yy.ravel()]\n",
    "\n",
    "fig, ax = plt.subplots()\n",
    "Z = model.predict(meshData)\n",
    "Z = np.array([0 if x < .5 else 1 for x in Z])\n",
    "Z = Z.reshape(xx.shape)\n",
    "ax.contourf(xx, yy, Z, alpha=.3, cmap=plt.cm.Paired)\n",
    "ax.axis('off')\n",
    "\n",
    "# Plot also the training points\n",
    "ax.scatter(X[:, 0], X[:, 1], color=colors[Y].tolist(), s=100, alpha=.9)\n",
    "plt.title(\"Decision Boundary\")\n",
    "plt.show()"
   ]
  }
 ],
 "metadata": {
  "kernelspec": {
   "display_name": "Python 3",
   "language": "python",
   "name": "python3"
  },
  "language_info": {
   "name": "python",
   "version": "3.11.1"
  },
  "orig_nbformat": 4,
  "vscode": {
   "interpreter": {
    "hash": "e7370f93d1d0cde622a1f8e1c04877d8463912d04d973331ad4851f04de6915a"
   }
  }
 },
 "nbformat": 4,
 "nbformat_minor": 2
}
